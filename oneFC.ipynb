{
 "cells": [
  {
   "cell_type": "markdown",
   "metadata": {},
   "source": [
    "<a target=\"_blank\" href=\"https://colab.research.google.com/github/justramle/Emotion-Recognition-with-Convolutional-Neural-network/blob/main/emotion_classification.ipynb\">\n",
    "  <img src=\"https://colab.research.google.com/assets/colab-badge.svg\" alt=\"Open In Colab\"/>\n",
    "</a>"
   ]
  },
  {
   "cell_type": "markdown",
   "metadata": {},
   "source": [
    "### Note:\n",
    "To run this dataset onn colab: \n",
    "- Upload a zip file (images.zip) of a folder directly on the Colab notebook\n",
    "- !unzip images.zip"
   ]
  },
  {
   "cell_type": "markdown",
   "metadata": {},
   "source": [
    "# Train a deep learning model with Four‐layer ConvNet and Two-NN on facial emotion recognition with pytorch\n",
    "\n",
    "### Dataset: https://www.kaggle.com/datasets/jonathanoheix/face-expression-recognition-dataset\n",
    "\n",
    "- Consist of 48x48 pixels gray scales images of faces belong to 7 class\n",
    "- size: 36k images\n",
    "- 80% of images are insided the train folder and 20% are insided the validation folder"
   ]
  },
  {
   "cell_type": "markdown",
   "metadata": {},
   "source": [
    "## References:\n",
    "\n",
    "- https://cs231n.github.io/convolutional-networks/\n",
    "- Paper 1: <br>\n",
    "https://arxiv.org/pdf/1704.06756.pdf\n",
    "- Source Code of CNN architect with tensorflow 1: <br>\n",
    "https://github.com/rishabhjainps/Facial-Expression-Recognition/blob/master/cnn_major.py\n",
    "\n",
    "- Paper 2: <br>\n",
    "https://www.nature.com/articles/s41598-022-11173-0\n",
    "- Source Code of CNN architect with tensorflow 2: <br>\n",
    "https://github.com/Tanoy004/Emotion-recognition-through-CNN/blob/main/emotion_recognition.py\n"
   ]
  },
  {
   "cell_type": "markdown",
   "metadata": {},
   "source": [
    "## Loading, splitting, processing and exploring the dataset"
   ]
  },
  {
   "cell_type": "code",
   "execution_count": 1,
   "metadata": {},
   "outputs": [
    {
     "name": "stdout",
     "output_type": "stream",
     "text": [
      "PyTorch version: 2.1.2\n"
     ]
    }
   ],
   "source": [
    "import torch\n",
    "print(f\"PyTorch version: {torch.__version__}\")"
   ]
  },
  {
   "cell_type": "markdown",
   "metadata": {},
   "source": [
    "### Loading the dataset"
   ]
  },
  {
   "cell_type": "code",
   "execution_count": 1,
   "metadata": {},
   "outputs": [
    {
     "name": "stdout",
     "output_type": "stream",
     "text": [
      "['happy', 'sad', 'fear', 'surprise', 'neutral', 'angry', 'disgust']\n"
     ]
    }
   ],
   "source": [
    "import os\n",
    "import cv2\n",
    "\n",
    "train_data_dir = 'images/train/'\n",
    "validation_data_dir = 'images/validation/'\n",
    "\n",
    "# debug\n",
    "print(os.listdir(train_data_dir))"
   ]
  },
  {
   "cell_type": "markdown",
   "metadata": {},
   "source": [
    "### Read all images in array"
   ]
  },
  {
   "cell_type": "code",
   "execution_count": 2,
   "metadata": {},
   "outputs": [],
   "source": [
    "# Function to load the image\n",
    "def load_image(directory):\n",
    "    images_path = []\n",
    "    labels = []\n",
    "    # access into each label folder and image inside that label\n",
    "    for images_class in os.listdir(directory):\n",
    "        for image_file in os.listdir(os.path.join(directory, images_class)):\n",
    "            image_path = os.path.join(directory, images_class, image_file)\n",
    "            # use openCV to open and read the image in grayscale: convert image into 2D Numpy Array: \n",
    "            image = cv2.imread(image_path, cv2.IMREAD_GRAYSCALE)    \n",
    "            images_path.append(image)\n",
    "            labels.append(images_class)\n",
    "    return images_path, labels"
   ]
  },
  {
   "cell_type": "markdown",
   "metadata": {},
   "source": [
    "### exploring the dataset"
   ]
  },
  {
   "cell_type": "code",
   "execution_count": 3,
   "metadata": {},
   "outputs": [
    {
     "data": {
      "text/html": [
       "<div>\n",
       "<style scoped>\n",
       "    .dataframe tbody tr th:only-of-type {\n",
       "        vertical-align: middle;\n",
       "    }\n",
       "\n",
       "    .dataframe tbody tr th {\n",
       "        vertical-align: top;\n",
       "    }\n",
       "\n",
       "    .dataframe thead th {\n",
       "        text-align: right;\n",
       "    }\n",
       "</style>\n",
       "<table border=\"1\" class=\"dataframe\">\n",
       "  <thead>\n",
       "    <tr style=\"text-align: right;\">\n",
       "      <th></th>\n",
       "      <th>image</th>\n",
       "      <th>label</th>\n",
       "    </tr>\n",
       "  </thead>\n",
       "  <tbody>\n",
       "    <tr>\n",
       "      <th>0</th>\n",
       "      <td>[[253, 252, 255, 254, 225, 92, 63, 69, 56, 52,...</td>\n",
       "      <td>happy</td>\n",
       "    </tr>\n",
       "    <tr>\n",
       "      <th>1</th>\n",
       "      <td>[[116, 119, 111, 116, 121, 119, 123, 122, 121,...</td>\n",
       "      <td>sad</td>\n",
       "    </tr>\n",
       "    <tr>\n",
       "      <th>2</th>\n",
       "      <td>[[180, 194, 225, 220, 133, 30, 10, 16, 13, 16,...</td>\n",
       "      <td>angry</td>\n",
       "    </tr>\n",
       "    <tr>\n",
       "      <th>3</th>\n",
       "      <td>[[118, 111, 114, 116, 104, 168, 154, 112, 169,...</td>\n",
       "      <td>neutral</td>\n",
       "    </tr>\n",
       "    <tr>\n",
       "      <th>4</th>\n",
       "      <td>[[226, 223, 220, 223, 219, 211, 215, 225, 162,...</td>\n",
       "      <td>neutral</td>\n",
       "    </tr>\n",
       "    <tr>\n",
       "      <th>...</th>\n",
       "      <td>...</td>\n",
       "      <td>...</td>\n",
       "    </tr>\n",
       "    <tr>\n",
       "      <th>28816</th>\n",
       "      <td>[[220, 115, 93, 50, 55, 46, 93, 137, 142, 145,...</td>\n",
       "      <td>happy</td>\n",
       "    </tr>\n",
       "    <tr>\n",
       "      <th>28817</th>\n",
       "      <td>[[193, 116, 31, 34, 45, 66, 67, 53, 61, 32, 62...</td>\n",
       "      <td>surprise</td>\n",
       "    </tr>\n",
       "    <tr>\n",
       "      <th>28818</th>\n",
       "      <td>[[210, 205, 210, 214, 213, 215, 215, 185, 129,...</td>\n",
       "      <td>happy</td>\n",
       "    </tr>\n",
       "    <tr>\n",
       "      <th>28819</th>\n",
       "      <td>[[254, 253, 230, 91, 71, 31, 56, 59, 49, 49, 3...</td>\n",
       "      <td>surprise</td>\n",
       "    </tr>\n",
       "    <tr>\n",
       "      <th>28820</th>\n",
       "      <td>[[254, 254, 254, 254, 254, 255, 255, 255, 255,...</td>\n",
       "      <td>sad</td>\n",
       "    </tr>\n",
       "  </tbody>\n",
       "</table>\n",
       "<p>28821 rows × 2 columns</p>\n",
       "</div>"
      ],
      "text/plain": [
       "                                                   image     label\n",
       "0      [[253, 252, 255, 254, 225, 92, 63, 69, 56, 52,...     happy\n",
       "1      [[116, 119, 111, 116, 121, 119, 123, 122, 121,...       sad\n",
       "2      [[180, 194, 225, 220, 133, 30, 10, 16, 13, 16,...     angry\n",
       "3      [[118, 111, 114, 116, 104, 168, 154, 112, 169,...   neutral\n",
       "4      [[226, 223, 220, 223, 219, 211, 215, 225, 162,...   neutral\n",
       "...                                                  ...       ...\n",
       "28816  [[220, 115, 93, 50, 55, 46, 93, 137, 142, 145,...     happy\n",
       "28817  [[193, 116, 31, 34, 45, 66, 67, 53, 61, 32, 62...  surprise\n",
       "28818  [[210, 205, 210, 214, 213, 215, 215, 185, 129,...     happy\n",
       "28819  [[254, 253, 230, 91, 71, 31, 56, 59, 49, 49, 3...  surprise\n",
       "28820  [[254, 254, 254, 254, 254, 255, 255, 255, 255,...       sad\n",
       "\n",
       "[28821 rows x 2 columns]"
      ]
     },
     "execution_count": 3,
     "metadata": {},
     "output_type": "execute_result"
    }
   ],
   "source": [
    "import pandas as pd\n",
    "\n",
    "train = pd.DataFrame()\n",
    "train['image'], train['label'] = load_image(train_data_dir)      # call the load_image function on train folder\n",
    "# shuffle the dataset\n",
    "train = train.sample(frac=1).reset_index(drop=True)\n",
    "train"
   ]
  },
  {
   "cell_type": "markdown",
   "metadata": {},
   "source": [
    "### Processing images and split dataset\n",
    "\n",
    "- Process help to prevent overfitting and improve performance include: \n",
    "    - do image augmentation on trainset: randomly transform or change color of the original image, to increase the diversity\n",
    "    - convert to tensor\n",
    "    - normalize dataset"
   ]
  },
  {
   "cell_type": "code",
   "execution_count": 4,
   "metadata": {},
   "outputs": [],
   "source": [
    "from torchvision import transforms\n",
    "from torchvision.datasets import ImageFolder\n",
    "from torch.utils.data import DataLoader\n",
    "\n",
    "# image augmentation and transform on gray scale of black and white image\n",
    "\n",
    "train_transforms = transforms.Compose([\n",
    "    transforms.Grayscale(num_output_channels=1), # channel 1 for black and white: 3 for RGB\n",
    "    transforms.RandomHorizontalFlip(),  # Randomly flip the image horizontally\n",
    "    transforms.RandomRotation(20),  # Randomly rotate the image by 20 degrees\n",
    "    transforms.ToTensor(),  # Convert pixe imagel [0-255] to tensor: range [0, 1], 0: black and 1: white)\n",
    "    transforms.Normalize((0.5,), (0.5,)),  # Normalize the tensor so values centered around 0, with a range [0, 1] to [-1, 1]\n",
    "])\n",
    "\n",
    "val_transforms = transforms.Compose([\n",
    "    transforms.Grayscale(num_output_channels=1),\n",
    "    transforms.ToTensor(),\n",
    "    transforms.Normalize((0.5,), (0.5,)),\n",
    "])"
   ]
  },
  {
   "cell_type": "markdown",
   "metadata": {},
   "source": [
    "- Splitting include:\n",
    "    - the test set: the data that training model never seen before. This will use to evaluate the final perfomance\n",
    "    - splitting 50% the data from validation folder\n",
    "    - 80% for training, 10% for validation, 10% for testing\n",
    "    - So there are about 28,821 training images, 3,533 validation images, and 3,533 images for testing.\n",
    "\n",
    "- After splitting, load the dataset to loader with mini batch size 128 \n",
    "    - shuffle training set but not validation set"
   ]
  },
  {
   "cell_type": "code",
   "execution_count": 5,
   "metadata": {},
   "outputs": [
    {
     "name": "stdout",
     "output_type": "stream",
     "text": [
      "Number of training samples: 28821\n",
      "Number of validation samples: 3533\n",
      "Number of test samples: 3533\n",
      "Shape of training images : torch.Size([1, 48, 48])\n",
      "Shape of training images : 0\n",
      "Class name of training image: angry\n",
      "Shape of 1st batch training images (after transformations): torch.Size([32, 1, 48, 48])\n"
     ]
    }
   ],
   "source": [
    "from torch.utils.data.dataset import random_split\n",
    "\n",
    "# put appy transform on images \n",
    "train_set = ImageFolder(root=train_data_dir, transform=train_transforms)\n",
    "val_set = ImageFolder(root=validation_data_dir, transform=val_transforms)\n",
    "\n",
    "# split proportion: 10% val and 10% on test\n",
    "val_size = int(0.5 * len(val_set))  \n",
    "test_size = len(val_set) - val_size\n",
    "\n",
    "val_dataset, test_dataset = random_split(val_set, [val_size, test_size])\n",
    "\n",
    "train_loader = DataLoader(train_set, batch_size=32, shuffle=True)\n",
    "val_loader = DataLoader(val_dataset, batch_size=32, shuffle=False)    \n",
    "test_loader = DataLoader(test_dataset, batch_size=32, shuffle=False)    \n",
    "\n",
    "\n",
    "print(f\"Number of training samples: {len(train_set)}\")\n",
    "print(f\"Number of validation samples: {len(val_dataset)}\")\n",
    "print(f\"Number of test samples: {len(test_dataset)}\")\n",
    "\n",
    "# Check the shape of the first training image [channel, width, height]\n",
    "train_x, train_y = train_set[0]\n",
    "print(f\"Shape of training images : {train_x.shape}\")\n",
    "print(f\"Shape of training images : {train_y}\")\n",
    "\n",
    "class_name = train_set.classes[train_y]\n",
    "print(f\"Class name of training image: {class_name}\")\n",
    "\n",
    "\n",
    "for images, labels in train_loader:\n",
    "    print(f\"Shape of 1st batch training images (after transformations): {images.shape}\")\n",
    "    break  #first batch: 128\n"
   ]
  },
  {
   "cell_type": "markdown",
   "metadata": {},
   "source": [
    "## CNN model\n",
    "### Bulding Deep Learning model with 4-layer of convolutional neural network and 2 fully connected layer"
   ]
  },
  {
   "cell_type": "code",
   "execution_count": 6,
   "metadata": {},
   "outputs": [],
   "source": [
    "# mport pytorch library and modules\n",
    "import torch\n",
    "import torch.nn as nn\n",
    "import torch.nn.functional as F\n",
    "# import torch.optim as optim\n",
    "from torch.optim import Adam\n",
    "from torch.nn import Linear, ReLU, CrossEntropyLoss, Sequential, Conv2d, MaxPool2d, BatchNorm2d, BatchNorm1d, Dropout"
   ]
  },
  {
   "cell_type": "markdown",
   "metadata": {},
   "source": [
    "### Architecture of Deep CNN model\n",
    "- 4 convolutional layes to extract features from images with 32 3x3 filters, 64 3x3 filters, 128 3x3 filters, 256 3x3 filters \n",
    "    - Each convolutional layer: stride 1, batch normalization, dropout rate 0.1, max-pooling and ReLU\n",
    "    - Except first block has no dropout and maxpool\n",
    "- flattening size: 256 * 4 * 4\n",
    "- 1 fully connected dense layers to classify those features into respective label\n",
    "    - 512 neuron of hidden layers \n",
    "    - batch norm, dropout, ReLu on each layer\n",
    "- For objective function in supervise learning task: goal is to minimize this function (distance between predict and actual)\n",
    "    - Loss function: using cross entropy because this is classification problems\n",
    "    - Optimization: Using Adam with learning rate at 0.001, weight regulation at 1e-6\n"
   ]
  },
  {
   "cell_type": "code",
   "execution_count": 20,
   "metadata": {},
   "outputs": [],
   "source": [
    "class convnet(nn.Module):\n",
    "    # constructor initialize instances of class\n",
    "    def __init__(self, num_classes):\n",
    "        super(convnet, self).__init__()         # Call the init method of nn.Module\n",
    "\n",
    "        # defining 2D convolutional layers by Squential for cleaner look\n",
    "        self.cnn_layers = Sequential(\n",
    "            \n",
    "            # first block : stride=1 paddind = 0 by default\n",
    "            Conv2d(1, 32, kernel_size=3),  # dot product of input and kernel to complete 1 pixel at a time: stride\n",
    "            BatchNorm2d(32),                                        # improves the performance and stability of NNs with unit\n",
    "            ReLU(),                                                 # non linear func to squash linear combination into 0 and 1\n",
    "            # Dropout(p=0.1),                                         # reduces overfitting/prevent not relying on one node in the layer too much\n",
    "            # MaxPool2d(kernel_size=2 , stride=2),                    # reduce dimension but still obtain important data\n",
    "\n",
    "            # second block\n",
    "            Conv2d(32, 64, kernel_size = 3),\n",
    "            BatchNorm2d(64), \n",
    "            ReLU(),\n",
    "            Dropout(p=0.1),\n",
    "            MaxPool2d(kernel_size=2),\n",
    "            \n",
    "            # third block\n",
    "            Conv2d(64, 128, kernel_size = 3),\n",
    "            BatchNorm2d(128), \n",
    "            ReLU(),                                                \n",
    "            Dropout(p=0.1),\n",
    "            MaxPool2d(kernel_size=2),\n",
    "\n",
    "            # fourth block\n",
    "            Conv2d(128, 256, kernel_size = 3),\n",
    "            BatchNorm2d(256), \n",
    "            ReLU(),\n",
    "            Dropout(p=0.1),\n",
    "            MaxPool2d(kernel_size=2),\n",
    "\n",
    "        )\n",
    "\n",
    "        # definind 2 fully connected layer (multi layers nn)\n",
    "        self.linear_layers = Sequential(\n",
    "            # 256 neuron of first hidden layers and 512 neuron of second hidden layers\n",
    "\n",
    "            # first fully connected layer  (input to hidden1)\n",
    "            Linear(256 * 4 * 4, 512),       # input size of flatten layer: 256 * 4 * 4 with 512 hidden node in first hidden layer\n",
    "            BatchNorm1d(512),\n",
    "            ReLU(),\n",
    "            Dropout(p=0.2),\n",
    "\n",
    "            Linear(512, num_classes)\n",
    "        )\n",
    "    \n",
    "    def forward(self, x):\n",
    "        # forward pass through cnn and linear layers\n",
    "        z1 = self.cnn_layers(x)  \n",
    "\n",
    "        z1 = z1.view(z1.size(0), -1)  # Flatten the output of conv layers       \n",
    "        # output flatten of convo layer is input of fully connected layer\n",
    "        z2 = self.linear_layers(z1) \n",
    "        \n",
    "        # return F.softmax(z2, dim = 1) \n",
    "        return z2"
   ]
  },
  {
   "cell_type": "markdown",
   "metadata": {},
   "source": [
    "### debug to check the size of output of flatten layer before feed in FC layers"
   ]
  },
  {
   "cell_type": "code",
   "execution_count": 21,
   "metadata": {},
   "outputs": [
    {
     "name": "stdout",
     "output_type": "stream",
     "text": [
      "torch.Size([1, 256, 4, 4])\n"
     ]
    }
   ],
   "source": [
    "model = convnet(num_classes=7)  # instantiate the instance of class \n",
    "\n",
    "# Create input with the size of input images (batch_size, channels, height, width)\n",
    "check_input = torch.randn(1, 1, 48, 48)\n",
    "\n",
    "check_input = model.cnn_layers(check_input)\n",
    "# Print the resulting size\n",
    "print(check_input.size())"
   ]
  },
  {
   "cell_type": "markdown",
   "metadata": {},
   "source": [
    "### define the opmizier and loss function for model"
   ]
  },
  {
   "cell_type": "code",
   "execution_count": 22,
   "metadata": {},
   "outputs": [
    {
     "name": "stdout",
     "output_type": "stream",
     "text": [
      "convnet(\n",
      "  (cnn_layers): Sequential(\n",
      "    (0): Conv2d(1, 32, kernel_size=(3, 3), stride=(1, 1))\n",
      "    (1): BatchNorm2d(32, eps=1e-05, momentum=0.1, affine=True, track_running_stats=True)\n",
      "    (2): ReLU()\n",
      "    (3): Conv2d(32, 64, kernel_size=(3, 3), stride=(1, 1))\n",
      "    (4): BatchNorm2d(64, eps=1e-05, momentum=0.1, affine=True, track_running_stats=True)\n",
      "    (5): ReLU()\n",
      "    (6): Dropout(p=0.1, inplace=False)\n",
      "    (7): MaxPool2d(kernel_size=2, stride=2, padding=0, dilation=1, ceil_mode=False)\n",
      "    (8): Conv2d(64, 128, kernel_size=(3, 3), stride=(1, 1))\n",
      "    (9): BatchNorm2d(128, eps=1e-05, momentum=0.1, affine=True, track_running_stats=True)\n",
      "    (10): ReLU()\n",
      "    (11): Dropout(p=0.1, inplace=False)\n",
      "    (12): MaxPool2d(kernel_size=2, stride=2, padding=0, dilation=1, ceil_mode=False)\n",
      "    (13): Conv2d(128, 256, kernel_size=(3, 3), stride=(1, 1))\n",
      "    (14): BatchNorm2d(256, eps=1e-05, momentum=0.1, affine=True, track_running_stats=True)\n",
      "    (15): ReLU()\n",
      "    (16): Dropout(p=0.1, inplace=False)\n",
      "    (17): MaxPool2d(kernel_size=2, stride=2, padding=0, dilation=1, ceil_mode=False)\n",
      "  )\n",
      "  (linear_layers): Sequential(\n",
      "    (0): Linear(in_features=4096, out_features=512, bias=True)\n",
      "    (1): BatchNorm1d(512, eps=1e-05, momentum=0.1, affine=True, track_running_stats=True)\n",
      "    (2): ReLU()\n",
      "    (3): Dropout(p=0.2, inplace=False)\n",
      "    (4): Linear(in_features=512, out_features=7, bias=True)\n",
      "  )\n",
      ")\n"
     ]
    }
   ],
   "source": [
    "# Instantiate the model\n",
    "num_classes = 7\n",
    "model = convnet(num_classes)\n",
    "\n",
    "# defining the optimizer: Adam with regulation to prevent overfitting\n",
    "optimizer = Adam(model.parameters(), lr = 0.001, weight_decay=1e-6)     \n",
    "# defining the loss function\n",
    "criterion = CrossEntropyLoss()\n",
    "print(model)\n"
   ]
  },
  {
   "cell_type": "code",
   "execution_count": 23,
   "metadata": {},
   "outputs": [
    {
     "name": "stdout",
     "output_type": "stream",
     "text": [
      "mps\n"
     ]
    }
   ],
   "source": [
    "# transfer to GPU\n",
    "device = \"mps\" if torch.backends.mps.is_available() else \"cpu\"\n",
    "print(device)\n",
    "model = model.to(device)"
   ]
  },
  {
   "cell_type": "markdown",
   "metadata": {},
   "source": [
    "### This function is to calcualte the total accuracy of train set, validation set and test set on dataloader"
   ]
  },
  {
   "cell_type": "code",
   "execution_count": 24,
   "metadata": {},
   "outputs": [],
   "source": [
    "\n",
    "def calculate_accuracy(model, data_loader):\n",
    "    model.eval()  # Set the model to evaluation mode\n",
    "    predictions = 0\n",
    "    total_samples = 0\n",
    "    true_labels = []\n",
    "    pred_labels = []\n",
    "\n",
    "    with torch.no_grad():  # No track gradients\n",
    "        for inputs, labels in data_loader:\n",
    "            inputs, labels = inputs.to(device), labels.to(device)\n",
    "            outputs = model(inputs)\n",
    "            y_pred = torch.argmax(outputs, dim=1)                   # Use argmax to get predictions: highest prob\n",
    "\n",
    "            # accuracy metric as the number of correctly predicted results / total numbe of samples\n",
    "            predictions += torch.sum(y_pred == labels).item()\n",
    "            total_samples += labels.size(0)                         # length of tensor at first dimension\n",
    "\n",
    "            # store for confusion matrix from scikit-learn in numpy form\n",
    "            pred_labels.extend(y_pred.cpu().numpy())\n",
    "            true_labels.extend(labels.cpu().numpy())\n",
    "\n",
    "    total_acc = predictions / total_samples\n",
    "    # print(f'Accuracy: {total_acc:.2f}')\n",
    "    \n",
    "    return total_acc, true_labels, pred_labels"
   ]
  },
  {
   "cell_type": "markdown",
   "metadata": {},
   "source": [
    "### Training and Evaluate the model on both validation "
   ]
  },
  {
   "cell_type": "code",
   "execution_count": 25,
   "metadata": {},
   "outputs": [],
   "source": [
    "def fit(epochs):\n",
    "    train_losses = []\n",
    "    val_losses = []\n",
    "    train_acc = []\n",
    "    val_acc = []\n",
    "\n",
    "    # for saving the best value of each epoch\n",
    "    best_val_loss = float('inf')\n",
    "    \n",
    "    for epoch in range(epochs):\n",
    "\n",
    "        # -------- Calculate training acc for the previous epoch--------\n",
    "        train_accuracy, _, _ = calculate_accuracy(model, train_loader)\n",
    "        train_acc.append(train_accuracy)\n",
    "\n",
    "        # --------Training loss--------\n",
    "        tr_loss = 0\n",
    "        # set model in training mode\n",
    "        model.train()\n",
    "        for inputs, labels in train_loader:\n",
    "            # load dataset to device\n",
    "            inputs, labels = inputs.to(device), labels.to(device)\n",
    "\n",
    "            # clear the gradient of model parameters\n",
    "            optimizer.zero_grad()\n",
    "\n",
    "            # Forward pass: prediction for training and validation set from the input\n",
    "            train_output = model(inputs)                            # output from predict on training set\n",
    "            train_loss = criterion(train_output, labels)            # calculate the loss between output and ground truth with cross entropy\n",
    "\n",
    "            # Backward pass and optimize: to updated the weight of all model parameters to improve the loss\n",
    "            train_loss.backward()                                   # backpropagate\n",
    "            optimizer.step()                                        # gradient decent to update paramter\n",
    "            tr_loss += train_loss.item()                            # extract and keep track loss each epochs: .item(): is single-element tensor convert to float format\n",
    "\n",
    "        avg_train_loss = tr_loss/ len(train_loader)                 # divide accumulated loss by the number of batches \n",
    "        train_losses.append(avg_train_loss)\n",
    "\n",
    "        \n",
    "        # --------Validation loss--------\n",
    "        validate_loss = 0\n",
    "        model.eval() \n",
    "        with torch.no_grad():                                       # no gradient on validation\n",
    "            for inputs, labels in val_loader:\n",
    "                # load dataset to device\n",
    "                inputs, labels = inputs.to(device), labels.to(device)\n",
    "\n",
    "                # Forward pass on validation. No backward on validation\n",
    "                val_output = model(inputs)                                 \n",
    "                val_loss = criterion(val_output, labels)            \n",
    "                validate_loss += val_loss.item()                            # keep track of loss each epochs\n",
    "            \n",
    "            avg_val_loss = validate_loss/len(val_loader)  \n",
    "\n",
    "            # Check if this is the best model so far\n",
    "            if avg_val_loss < best_val_loss:\n",
    "                best_val_loss = avg_val_loss\n",
    "                best_model_state = model.state_dict() # save the best model state\n",
    "                torch.save(model.state_dict(), 'best_model_state.pth')\n",
    "            val_losses.append(avg_val_loss)                                 # store best loss value\n",
    "\n",
    "        # Calculate validation accuracy each epoch\n",
    "        val_accuracy, _, _ = calculate_accuracy(model, val_loader)\n",
    "        val_acc.append(val_accuracy)\n",
    "\n",
    "        # if epoch % 2 == 0:\n",
    "        print(f'Epoch {epoch + 1}/{epochs} | Train Loss: {avg_train_loss:.4f} | Val Loss: {avg_val_loss:.4f} | Train Acc: {train_accuracy:.4f} | Val Acc: {val_accuracy:.4f}  ')\n",
    "\n",
    "    return train_losses, val_losses, train_acc, val_acc"
   ]
  },
  {
   "cell_type": "markdown",
   "metadata": {},
   "source": [
    "### train the model with 50 epochs and store the training and validation losses"
   ]
  },
  {
   "cell_type": "code",
   "execution_count": 26,
   "metadata": {},
   "outputs": [
    {
     "name": "stdout",
     "output_type": "stream",
     "text": [
      "Epoch 1/25 | Train Loss: 1.4848 | Val Loss: 1.2532 | Train Acc: 0.1385 | Val Acc: 0.5183  \n",
      "Epoch 2/25 | Train Loss: 1.2689 | Val Loss: 1.2030 | Train Acc: 0.4920 | Val Acc: 0.5316  \n",
      "Epoch 3/25 | Train Loss: 1.1991 | Val Loss: 1.0963 | Train Acc: 0.5255 | Val Acc: 0.5873  \n",
      "Epoch 4/25 | Train Loss: 1.1417 | Val Loss: 1.0739 | Train Acc: 0.5774 | Val Acc: 0.5853  \n",
      "Epoch 5/25 | Train Loss: 1.1035 | Val Loss: 1.0729 | Train Acc: 0.5825 | Val Acc: 0.5859  \n",
      "Epoch 6/25 | Train Loss: 1.0793 | Val Loss: 1.0178 | Train Acc: 0.5906 | Val Acc: 0.6134  \n",
      "Epoch 7/25 | Train Loss: 1.0362 | Val Loss: 1.0144 | Train Acc: 0.6303 | Val Acc: 0.6204  \n",
      "Epoch 8/25 | Train Loss: 1.0064 | Val Loss: 1.0016 | Train Acc: 0.6365 | Val Acc: 0.6252  \n",
      "Epoch 9/25 | Train Loss: 0.9849 | Val Loss: 0.9732 | Train Acc: 0.6495 | Val Acc: 0.6352  \n",
      "Epoch 10/25 | Train Loss: 0.9615 | Val Loss: 0.9737 | Train Acc: 0.6633 | Val Acc: 0.6329  \n",
      "Epoch 11/25 | Train Loss: 0.9267 | Val Loss: 0.9475 | Train Acc: 0.6632 | Val Acc: 0.6431  \n",
      "Epoch 12/25 | Train Loss: 0.9100 | Val Loss: 0.9719 | Train Acc: 0.6837 | Val Acc: 0.6323  \n",
      "Epoch 13/25 | Train Loss: 0.8838 | Val Loss: 0.9490 | Train Acc: 0.6849 | Val Acc: 0.6499  \n",
      "Epoch 14/25 | Train Loss: 0.8600 | Val Loss: 0.9481 | Train Acc: 0.7028 | Val Acc: 0.6388  \n",
      "Epoch 15/25 | Train Loss: 0.8406 | Val Loss: 0.9495 | Train Acc: 0.7140 | Val Acc: 0.6465  \n",
      "Epoch 16/25 | Train Loss: 0.8222 | Val Loss: 0.9347 | Train Acc: 0.7255 | Val Acc: 0.6510  \n",
      "Epoch 17/25 | Train Loss: 0.7976 | Val Loss: 0.9415 | Train Acc: 0.7362 | Val Acc: 0.6606  \n",
      "Epoch 18/25 | Train Loss: 0.7763 | Val Loss: 0.9354 | Train Acc: 0.7442 | Val Acc: 0.6530  \n",
      "Epoch 19/25 | Train Loss: 0.7537 | Val Loss: 0.9439 | Train Acc: 0.7581 | Val Acc: 0.6572  \n",
      "Epoch 20/25 | Train Loss: 0.7394 | Val Loss: 0.9513 | Train Acc: 0.7543 | Val Acc: 0.6544  \n",
      "Epoch 21/25 | Train Loss: 0.7194 | Val Loss: 0.9572 | Train Acc: 0.7678 | Val Acc: 0.6572  \n",
      "Epoch 22/25 | Train Loss: 0.6997 | Val Loss: 0.9504 | Train Acc: 0.7785 | Val Acc: 0.6555  \n",
      "Epoch 23/25 | Train Loss: 0.6789 | Val Loss: 0.9484 | Train Acc: 0.7855 | Val Acc: 0.6561  \n",
      "Epoch 24/25 | Train Loss: 0.6682 | Val Loss: 0.9687 | Train Acc: 0.8007 | Val Acc: 0.6569  \n",
      "Epoch 25/25 | Train Loss: 0.6487 | Val Loss: 0.9742 | Train Acc: 0.8059 | Val Acc: 0.6519  \n"
     ]
    }
   ],
   "source": [
    "num_epochs = 25\n",
    "train_loss, val_loss, train_acc, val_acc  = fit(num_epochs)"
   ]
  },
  {
   "cell_type": "code",
   "execution_count": 27,
   "metadata": {},
   "outputs": [
    {
     "data": {
      "application/vnd.plotly.v1+json": {
       "config": {
        "plotlyServerURL": "https://plot.ly"
       },
       "data": [
        {
         "mode": "lines",
         "name": "Training Loss",
         "type": "scatter",
         "y": [
          1.4848097308097483,
          1.2688876115918557,
          1.1990517189976377,
          1.1417164547197298,
          1.1035387595406383,
          1.0792703565693855,
          1.036153396014765,
          1.006384696203649,
          0.9848867593277307,
          0.9615350370931043,
          0.9266906243714852,
          0.9100114004593446,
          0.8838229421174751,
          0.860048890411523,
          0.8406377152584237,
          0.8221716898659888,
          0.7976163803009558,
          0.7762501505384435,
          0.7537250218129449,
          0.7394120962453073,
          0.7193646749500164,
          0.6996771430929546,
          0.6789398137459347,
          0.6682247759962452,
          0.6486995424269042
         ]
        },
        {
         "mode": "lines",
         "name": "Validation Loss",
         "type": "scatter",
         "y": [
          1.2532142207429215,
          1.2030490749591105,
          1.0962552433615331,
          1.073936769554207,
          1.0728603859205503,
          1.0178109922924556,
          1.0143576548980162,
          1.0015740636232737,
          0.9731856085158683,
          0.9737281810055982,
          0.9474916135942614,
          0.9718658730790422,
          0.9490484106648076,
          0.948093661853859,
          0.9495368648219753,
          0.9347463322652353,
          0.9414966221865233,
          0.935392591867361,
          0.9439027392649436,
          0.9513394252674,
          0.9571850638131838,
          0.9503973131781226,
          0.9484103166305267,
          0.9687333284197627,
          0.9741852009618605
         ]
        }
       ],
       "layout": {
        "height": 400,
        "template": {
         "data": {
          "bar": [
           {
            "error_x": {
             "color": "#2a3f5f"
            },
            "error_y": {
             "color": "#2a3f5f"
            },
            "marker": {
             "line": {
              "color": "#E5ECF6",
              "width": 0.5
             },
             "pattern": {
              "fillmode": "overlay",
              "size": 10,
              "solidity": 0.2
             }
            },
            "type": "bar"
           }
          ],
          "barpolar": [
           {
            "marker": {
             "line": {
              "color": "#E5ECF6",
              "width": 0.5
             },
             "pattern": {
              "fillmode": "overlay",
              "size": 10,
              "solidity": 0.2
             }
            },
            "type": "barpolar"
           }
          ],
          "carpet": [
           {
            "aaxis": {
             "endlinecolor": "#2a3f5f",
             "gridcolor": "white",
             "linecolor": "white",
             "minorgridcolor": "white",
             "startlinecolor": "#2a3f5f"
            },
            "baxis": {
             "endlinecolor": "#2a3f5f",
             "gridcolor": "white",
             "linecolor": "white",
             "minorgridcolor": "white",
             "startlinecolor": "#2a3f5f"
            },
            "type": "carpet"
           }
          ],
          "choropleth": [
           {
            "colorbar": {
             "outlinewidth": 0,
             "ticks": ""
            },
            "type": "choropleth"
           }
          ],
          "contour": [
           {
            "colorbar": {
             "outlinewidth": 0,
             "ticks": ""
            },
            "colorscale": [
             [
              0,
              "#0d0887"
             ],
             [
              0.1111111111111111,
              "#46039f"
             ],
             [
              0.2222222222222222,
              "#7201a8"
             ],
             [
              0.3333333333333333,
              "#9c179e"
             ],
             [
              0.4444444444444444,
              "#bd3786"
             ],
             [
              0.5555555555555556,
              "#d8576b"
             ],
             [
              0.6666666666666666,
              "#ed7953"
             ],
             [
              0.7777777777777778,
              "#fb9f3a"
             ],
             [
              0.8888888888888888,
              "#fdca26"
             ],
             [
              1,
              "#f0f921"
             ]
            ],
            "type": "contour"
           }
          ],
          "contourcarpet": [
           {
            "colorbar": {
             "outlinewidth": 0,
             "ticks": ""
            },
            "type": "contourcarpet"
           }
          ],
          "heatmap": [
           {
            "colorbar": {
             "outlinewidth": 0,
             "ticks": ""
            },
            "colorscale": [
             [
              0,
              "#0d0887"
             ],
             [
              0.1111111111111111,
              "#46039f"
             ],
             [
              0.2222222222222222,
              "#7201a8"
             ],
             [
              0.3333333333333333,
              "#9c179e"
             ],
             [
              0.4444444444444444,
              "#bd3786"
             ],
             [
              0.5555555555555556,
              "#d8576b"
             ],
             [
              0.6666666666666666,
              "#ed7953"
             ],
             [
              0.7777777777777778,
              "#fb9f3a"
             ],
             [
              0.8888888888888888,
              "#fdca26"
             ],
             [
              1,
              "#f0f921"
             ]
            ],
            "type": "heatmap"
           }
          ],
          "heatmapgl": [
           {
            "colorbar": {
             "outlinewidth": 0,
             "ticks": ""
            },
            "colorscale": [
             [
              0,
              "#0d0887"
             ],
             [
              0.1111111111111111,
              "#46039f"
             ],
             [
              0.2222222222222222,
              "#7201a8"
             ],
             [
              0.3333333333333333,
              "#9c179e"
             ],
             [
              0.4444444444444444,
              "#bd3786"
             ],
             [
              0.5555555555555556,
              "#d8576b"
             ],
             [
              0.6666666666666666,
              "#ed7953"
             ],
             [
              0.7777777777777778,
              "#fb9f3a"
             ],
             [
              0.8888888888888888,
              "#fdca26"
             ],
             [
              1,
              "#f0f921"
             ]
            ],
            "type": "heatmapgl"
           }
          ],
          "histogram": [
           {
            "marker": {
             "pattern": {
              "fillmode": "overlay",
              "size": 10,
              "solidity": 0.2
             }
            },
            "type": "histogram"
           }
          ],
          "histogram2d": [
           {
            "colorbar": {
             "outlinewidth": 0,
             "ticks": ""
            },
            "colorscale": [
             [
              0,
              "#0d0887"
             ],
             [
              0.1111111111111111,
              "#46039f"
             ],
             [
              0.2222222222222222,
              "#7201a8"
             ],
             [
              0.3333333333333333,
              "#9c179e"
             ],
             [
              0.4444444444444444,
              "#bd3786"
             ],
             [
              0.5555555555555556,
              "#d8576b"
             ],
             [
              0.6666666666666666,
              "#ed7953"
             ],
             [
              0.7777777777777778,
              "#fb9f3a"
             ],
             [
              0.8888888888888888,
              "#fdca26"
             ],
             [
              1,
              "#f0f921"
             ]
            ],
            "type": "histogram2d"
           }
          ],
          "histogram2dcontour": [
           {
            "colorbar": {
             "outlinewidth": 0,
             "ticks": ""
            },
            "colorscale": [
             [
              0,
              "#0d0887"
             ],
             [
              0.1111111111111111,
              "#46039f"
             ],
             [
              0.2222222222222222,
              "#7201a8"
             ],
             [
              0.3333333333333333,
              "#9c179e"
             ],
             [
              0.4444444444444444,
              "#bd3786"
             ],
             [
              0.5555555555555556,
              "#d8576b"
             ],
             [
              0.6666666666666666,
              "#ed7953"
             ],
             [
              0.7777777777777778,
              "#fb9f3a"
             ],
             [
              0.8888888888888888,
              "#fdca26"
             ],
             [
              1,
              "#f0f921"
             ]
            ],
            "type": "histogram2dcontour"
           }
          ],
          "mesh3d": [
           {
            "colorbar": {
             "outlinewidth": 0,
             "ticks": ""
            },
            "type": "mesh3d"
           }
          ],
          "parcoords": [
           {
            "line": {
             "colorbar": {
              "outlinewidth": 0,
              "ticks": ""
             }
            },
            "type": "parcoords"
           }
          ],
          "pie": [
           {
            "automargin": true,
            "type": "pie"
           }
          ],
          "scatter": [
           {
            "fillpattern": {
             "fillmode": "overlay",
             "size": 10,
             "solidity": 0.2
            },
            "type": "scatter"
           }
          ],
          "scatter3d": [
           {
            "line": {
             "colorbar": {
              "outlinewidth": 0,
              "ticks": ""
             }
            },
            "marker": {
             "colorbar": {
              "outlinewidth": 0,
              "ticks": ""
             }
            },
            "type": "scatter3d"
           }
          ],
          "scattercarpet": [
           {
            "marker": {
             "colorbar": {
              "outlinewidth": 0,
              "ticks": ""
             }
            },
            "type": "scattercarpet"
           }
          ],
          "scattergeo": [
           {
            "marker": {
             "colorbar": {
              "outlinewidth": 0,
              "ticks": ""
             }
            },
            "type": "scattergeo"
           }
          ],
          "scattergl": [
           {
            "marker": {
             "colorbar": {
              "outlinewidth": 0,
              "ticks": ""
             }
            },
            "type": "scattergl"
           }
          ],
          "scattermapbox": [
           {
            "marker": {
             "colorbar": {
              "outlinewidth": 0,
              "ticks": ""
             }
            },
            "type": "scattermapbox"
           }
          ],
          "scatterpolar": [
           {
            "marker": {
             "colorbar": {
              "outlinewidth": 0,
              "ticks": ""
             }
            },
            "type": "scatterpolar"
           }
          ],
          "scatterpolargl": [
           {
            "marker": {
             "colorbar": {
              "outlinewidth": 0,
              "ticks": ""
             }
            },
            "type": "scatterpolargl"
           }
          ],
          "scatterternary": [
           {
            "marker": {
             "colorbar": {
              "outlinewidth": 0,
              "ticks": ""
             }
            },
            "type": "scatterternary"
           }
          ],
          "surface": [
           {
            "colorbar": {
             "outlinewidth": 0,
             "ticks": ""
            },
            "colorscale": [
             [
              0,
              "#0d0887"
             ],
             [
              0.1111111111111111,
              "#46039f"
             ],
             [
              0.2222222222222222,
              "#7201a8"
             ],
             [
              0.3333333333333333,
              "#9c179e"
             ],
             [
              0.4444444444444444,
              "#bd3786"
             ],
             [
              0.5555555555555556,
              "#d8576b"
             ],
             [
              0.6666666666666666,
              "#ed7953"
             ],
             [
              0.7777777777777778,
              "#fb9f3a"
             ],
             [
              0.8888888888888888,
              "#fdca26"
             ],
             [
              1,
              "#f0f921"
             ]
            ],
            "type": "surface"
           }
          ],
          "table": [
           {
            "cells": {
             "fill": {
              "color": "#EBF0F8"
             },
             "line": {
              "color": "white"
             }
            },
            "header": {
             "fill": {
              "color": "#C8D4E3"
             },
             "line": {
              "color": "white"
             }
            },
            "type": "table"
           }
          ]
         },
         "layout": {
          "annotationdefaults": {
           "arrowcolor": "#2a3f5f",
           "arrowhead": 0,
           "arrowwidth": 1
          },
          "autotypenumbers": "strict",
          "coloraxis": {
           "colorbar": {
            "outlinewidth": 0,
            "ticks": ""
           }
          },
          "colorscale": {
           "diverging": [
            [
             0,
             "#8e0152"
            ],
            [
             0.1,
             "#c51b7d"
            ],
            [
             0.2,
             "#de77ae"
            ],
            [
             0.3,
             "#f1b6da"
            ],
            [
             0.4,
             "#fde0ef"
            ],
            [
             0.5,
             "#f7f7f7"
            ],
            [
             0.6,
             "#e6f5d0"
            ],
            [
             0.7,
             "#b8e186"
            ],
            [
             0.8,
             "#7fbc41"
            ],
            [
             0.9,
             "#4d9221"
            ],
            [
             1,
             "#276419"
            ]
           ],
           "sequential": [
            [
             0,
             "#0d0887"
            ],
            [
             0.1111111111111111,
             "#46039f"
            ],
            [
             0.2222222222222222,
             "#7201a8"
            ],
            [
             0.3333333333333333,
             "#9c179e"
            ],
            [
             0.4444444444444444,
             "#bd3786"
            ],
            [
             0.5555555555555556,
             "#d8576b"
            ],
            [
             0.6666666666666666,
             "#ed7953"
            ],
            [
             0.7777777777777778,
             "#fb9f3a"
            ],
            [
             0.8888888888888888,
             "#fdca26"
            ],
            [
             1,
             "#f0f921"
            ]
           ],
           "sequentialminus": [
            [
             0,
             "#0d0887"
            ],
            [
             0.1111111111111111,
             "#46039f"
            ],
            [
             0.2222222222222222,
             "#7201a8"
            ],
            [
             0.3333333333333333,
             "#9c179e"
            ],
            [
             0.4444444444444444,
             "#bd3786"
            ],
            [
             0.5555555555555556,
             "#d8576b"
            ],
            [
             0.6666666666666666,
             "#ed7953"
            ],
            [
             0.7777777777777778,
             "#fb9f3a"
            ],
            [
             0.8888888888888888,
             "#fdca26"
            ],
            [
             1,
             "#f0f921"
            ]
           ]
          },
          "colorway": [
           "#636efa",
           "#EF553B",
           "#00cc96",
           "#ab63fa",
           "#FFA15A",
           "#19d3f3",
           "#FF6692",
           "#B6E880",
           "#FF97FF",
           "#FECB52"
          ],
          "font": {
           "color": "#2a3f5f"
          },
          "geo": {
           "bgcolor": "white",
           "lakecolor": "white",
           "landcolor": "#E5ECF6",
           "showlakes": true,
           "showland": true,
           "subunitcolor": "white"
          },
          "hoverlabel": {
           "align": "left"
          },
          "hovermode": "closest",
          "mapbox": {
           "style": "light"
          },
          "paper_bgcolor": "white",
          "plot_bgcolor": "#E5ECF6",
          "polar": {
           "angularaxis": {
            "gridcolor": "white",
            "linecolor": "white",
            "ticks": ""
           },
           "bgcolor": "#E5ECF6",
           "radialaxis": {
            "gridcolor": "white",
            "linecolor": "white",
            "ticks": ""
           }
          },
          "scene": {
           "xaxis": {
            "backgroundcolor": "#E5ECF6",
            "gridcolor": "white",
            "gridwidth": 2,
            "linecolor": "white",
            "showbackground": true,
            "ticks": "",
            "zerolinecolor": "white"
           },
           "yaxis": {
            "backgroundcolor": "#E5ECF6",
            "gridcolor": "white",
            "gridwidth": 2,
            "linecolor": "white",
            "showbackground": true,
            "ticks": "",
            "zerolinecolor": "white"
           },
           "zaxis": {
            "backgroundcolor": "#E5ECF6",
            "gridcolor": "white",
            "gridwidth": 2,
            "linecolor": "white",
            "showbackground": true,
            "ticks": "",
            "zerolinecolor": "white"
           }
          },
          "shapedefaults": {
           "line": {
            "color": "#2a3f5f"
           }
          },
          "ternary": {
           "aaxis": {
            "gridcolor": "white",
            "linecolor": "white",
            "ticks": ""
           },
           "baxis": {
            "gridcolor": "white",
            "linecolor": "white",
            "ticks": ""
           },
           "bgcolor": "#E5ECF6",
           "caxis": {
            "gridcolor": "white",
            "linecolor": "white",
            "ticks": ""
           }
          },
          "title": {
           "x": 0.05
          },
          "xaxis": {
           "automargin": true,
           "gridcolor": "white",
           "linecolor": "white",
           "ticks": "",
           "title": {
            "standoff": 15
           },
           "zerolinecolor": "white",
           "zerolinewidth": 2
          },
          "yaxis": {
           "automargin": true,
           "gridcolor": "white",
           "linecolor": "white",
           "ticks": "",
           "title": {
            "standoff": 15
           },
           "zerolinecolor": "white",
           "zerolinewidth": 2
          }
         }
        },
        "title": {
         "text": "Training and Validation Loss over Epochs"
        },
        "width": 900,
        "xaxis": {
         "title": {
          "text": "Epoch"
         }
        },
        "yaxis": {
         "title": {
          "text": "Loss"
         }
        }
       }
      }
     },
     "metadata": {},
     "output_type": "display_data"
    }
   ],
   "source": [
    "import plotly.graph_objects as graph\n",
    "# pio.renderers\n",
    "\n",
    "fig = graph.Figure()\n",
    "\n",
    "# the training loss \n",
    "fig.add_trace(graph.Scatter(y=train_loss, mode='lines', name='Training Loss'))\n",
    "# the validation loss \n",
    "fig.add_trace(graph.Scatter(y=val_loss, mode='lines', name='Validation Loss'))\n",
    "# Update the layout with titles and axis labels\n",
    "fig.update_layout(title='Training and Validation Loss over Epochs',\n",
    "                  xaxis_title='Epoch',\n",
    "                  yaxis_title='Loss',\n",
    "                  width=900,\n",
    "                  height=400)\n",
    "\n",
    "# fig.add_trace(go.Scatter(y=train_losses, fill='tozeroy', mode='lines', name='Training Loss'))  # Fill to x-axis\n",
    "# fig.add_trace(go.Scatter(y=val_losses, fill='tozeroy', mode='lines', name='Validation Loss'))\n",
    "\n",
    "fig.show()"
   ]
  },
  {
   "cell_type": "code",
   "execution_count": 28,
   "metadata": {},
   "outputs": [
    {
     "data": {
      "application/vnd.plotly.v1+json": {
       "config": {
        "plotlyServerURL": "https://plot.ly"
       },
       "data": [
        {
         "mode": "lines",
         "name": "Training Accuracy",
         "type": "scatter",
         "y": [
          0.13854481107525762,
          0.49200235939072207,
          0.5254848894903023,
          0.5773567884528642,
          0.5824919329655459,
          0.5906110128031644,
          0.6303389889316817,
          0.636515041115853,
          0.6494916900870893,
          0.6633357621179001,
          0.6632316713507512,
          0.6836681586343292,
          0.6849172478401165,
          0.7027514659449707,
          0.7140279657194407,
          0.7255473439505916,
          0.7361646021997849,
          0.7442489851150202,
          0.7581277540682142,
          0.7542763956837029,
          0.7678081954130669,
          0.7784601505846431,
          0.7854689289060061,
          0.8006661809097533,
          0.805940113111967
         ]
        },
        {
         "mode": "lines",
         "name": "Validation Accuracy",
         "type": "scatter",
         "y": [
          0.5182564392867252,
          0.5315595810925559,
          0.5873195584489103,
          0.5853382394565525,
          0.5859043305972261,
          0.6133597509198981,
          0.6204358901783187,
          0.6252476648740447,
          0.6351542598358336,
          0.632889895273139,
          0.6430795358052647,
          0.6323238041324654,
          0.6498726294933485,
          0.6388338522502123,
          0.6464760826493066,
          0.6510048117746957,
          0.6606283611661478,
          0.6529861307670535,
          0.6572318143221059,
          0.6544013586187376,
          0.6572318143221059,
          0.6555335409000849,
          0.6560996320407586,
          0.656948768751769,
          0.6518539484857062
         ]
        }
       ],
       "layout": {
        "height": 400,
        "template": {
         "data": {
          "bar": [
           {
            "error_x": {
             "color": "#2a3f5f"
            },
            "error_y": {
             "color": "#2a3f5f"
            },
            "marker": {
             "line": {
              "color": "#E5ECF6",
              "width": 0.5
             },
             "pattern": {
              "fillmode": "overlay",
              "size": 10,
              "solidity": 0.2
             }
            },
            "type": "bar"
           }
          ],
          "barpolar": [
           {
            "marker": {
             "line": {
              "color": "#E5ECF6",
              "width": 0.5
             },
             "pattern": {
              "fillmode": "overlay",
              "size": 10,
              "solidity": 0.2
             }
            },
            "type": "barpolar"
           }
          ],
          "carpet": [
           {
            "aaxis": {
             "endlinecolor": "#2a3f5f",
             "gridcolor": "white",
             "linecolor": "white",
             "minorgridcolor": "white",
             "startlinecolor": "#2a3f5f"
            },
            "baxis": {
             "endlinecolor": "#2a3f5f",
             "gridcolor": "white",
             "linecolor": "white",
             "minorgridcolor": "white",
             "startlinecolor": "#2a3f5f"
            },
            "type": "carpet"
           }
          ],
          "choropleth": [
           {
            "colorbar": {
             "outlinewidth": 0,
             "ticks": ""
            },
            "type": "choropleth"
           }
          ],
          "contour": [
           {
            "colorbar": {
             "outlinewidth": 0,
             "ticks": ""
            },
            "colorscale": [
             [
              0,
              "#0d0887"
             ],
             [
              0.1111111111111111,
              "#46039f"
             ],
             [
              0.2222222222222222,
              "#7201a8"
             ],
             [
              0.3333333333333333,
              "#9c179e"
             ],
             [
              0.4444444444444444,
              "#bd3786"
             ],
             [
              0.5555555555555556,
              "#d8576b"
             ],
             [
              0.6666666666666666,
              "#ed7953"
             ],
             [
              0.7777777777777778,
              "#fb9f3a"
             ],
             [
              0.8888888888888888,
              "#fdca26"
             ],
             [
              1,
              "#f0f921"
             ]
            ],
            "type": "contour"
           }
          ],
          "contourcarpet": [
           {
            "colorbar": {
             "outlinewidth": 0,
             "ticks": ""
            },
            "type": "contourcarpet"
           }
          ],
          "heatmap": [
           {
            "colorbar": {
             "outlinewidth": 0,
             "ticks": ""
            },
            "colorscale": [
             [
              0,
              "#0d0887"
             ],
             [
              0.1111111111111111,
              "#46039f"
             ],
             [
              0.2222222222222222,
              "#7201a8"
             ],
             [
              0.3333333333333333,
              "#9c179e"
             ],
             [
              0.4444444444444444,
              "#bd3786"
             ],
             [
              0.5555555555555556,
              "#d8576b"
             ],
             [
              0.6666666666666666,
              "#ed7953"
             ],
             [
              0.7777777777777778,
              "#fb9f3a"
             ],
             [
              0.8888888888888888,
              "#fdca26"
             ],
             [
              1,
              "#f0f921"
             ]
            ],
            "type": "heatmap"
           }
          ],
          "heatmapgl": [
           {
            "colorbar": {
             "outlinewidth": 0,
             "ticks": ""
            },
            "colorscale": [
             [
              0,
              "#0d0887"
             ],
             [
              0.1111111111111111,
              "#46039f"
             ],
             [
              0.2222222222222222,
              "#7201a8"
             ],
             [
              0.3333333333333333,
              "#9c179e"
             ],
             [
              0.4444444444444444,
              "#bd3786"
             ],
             [
              0.5555555555555556,
              "#d8576b"
             ],
             [
              0.6666666666666666,
              "#ed7953"
             ],
             [
              0.7777777777777778,
              "#fb9f3a"
             ],
             [
              0.8888888888888888,
              "#fdca26"
             ],
             [
              1,
              "#f0f921"
             ]
            ],
            "type": "heatmapgl"
           }
          ],
          "histogram": [
           {
            "marker": {
             "pattern": {
              "fillmode": "overlay",
              "size": 10,
              "solidity": 0.2
             }
            },
            "type": "histogram"
           }
          ],
          "histogram2d": [
           {
            "colorbar": {
             "outlinewidth": 0,
             "ticks": ""
            },
            "colorscale": [
             [
              0,
              "#0d0887"
             ],
             [
              0.1111111111111111,
              "#46039f"
             ],
             [
              0.2222222222222222,
              "#7201a8"
             ],
             [
              0.3333333333333333,
              "#9c179e"
             ],
             [
              0.4444444444444444,
              "#bd3786"
             ],
             [
              0.5555555555555556,
              "#d8576b"
             ],
             [
              0.6666666666666666,
              "#ed7953"
             ],
             [
              0.7777777777777778,
              "#fb9f3a"
             ],
             [
              0.8888888888888888,
              "#fdca26"
             ],
             [
              1,
              "#f0f921"
             ]
            ],
            "type": "histogram2d"
           }
          ],
          "histogram2dcontour": [
           {
            "colorbar": {
             "outlinewidth": 0,
             "ticks": ""
            },
            "colorscale": [
             [
              0,
              "#0d0887"
             ],
             [
              0.1111111111111111,
              "#46039f"
             ],
             [
              0.2222222222222222,
              "#7201a8"
             ],
             [
              0.3333333333333333,
              "#9c179e"
             ],
             [
              0.4444444444444444,
              "#bd3786"
             ],
             [
              0.5555555555555556,
              "#d8576b"
             ],
             [
              0.6666666666666666,
              "#ed7953"
             ],
             [
              0.7777777777777778,
              "#fb9f3a"
             ],
             [
              0.8888888888888888,
              "#fdca26"
             ],
             [
              1,
              "#f0f921"
             ]
            ],
            "type": "histogram2dcontour"
           }
          ],
          "mesh3d": [
           {
            "colorbar": {
             "outlinewidth": 0,
             "ticks": ""
            },
            "type": "mesh3d"
           }
          ],
          "parcoords": [
           {
            "line": {
             "colorbar": {
              "outlinewidth": 0,
              "ticks": ""
             }
            },
            "type": "parcoords"
           }
          ],
          "pie": [
           {
            "automargin": true,
            "type": "pie"
           }
          ],
          "scatter": [
           {
            "fillpattern": {
             "fillmode": "overlay",
             "size": 10,
             "solidity": 0.2
            },
            "type": "scatter"
           }
          ],
          "scatter3d": [
           {
            "line": {
             "colorbar": {
              "outlinewidth": 0,
              "ticks": ""
             }
            },
            "marker": {
             "colorbar": {
              "outlinewidth": 0,
              "ticks": ""
             }
            },
            "type": "scatter3d"
           }
          ],
          "scattercarpet": [
           {
            "marker": {
             "colorbar": {
              "outlinewidth": 0,
              "ticks": ""
             }
            },
            "type": "scattercarpet"
           }
          ],
          "scattergeo": [
           {
            "marker": {
             "colorbar": {
              "outlinewidth": 0,
              "ticks": ""
             }
            },
            "type": "scattergeo"
           }
          ],
          "scattergl": [
           {
            "marker": {
             "colorbar": {
              "outlinewidth": 0,
              "ticks": ""
             }
            },
            "type": "scattergl"
           }
          ],
          "scattermapbox": [
           {
            "marker": {
             "colorbar": {
              "outlinewidth": 0,
              "ticks": ""
             }
            },
            "type": "scattermapbox"
           }
          ],
          "scatterpolar": [
           {
            "marker": {
             "colorbar": {
              "outlinewidth": 0,
              "ticks": ""
             }
            },
            "type": "scatterpolar"
           }
          ],
          "scatterpolargl": [
           {
            "marker": {
             "colorbar": {
              "outlinewidth": 0,
              "ticks": ""
             }
            },
            "type": "scatterpolargl"
           }
          ],
          "scatterternary": [
           {
            "marker": {
             "colorbar": {
              "outlinewidth": 0,
              "ticks": ""
             }
            },
            "type": "scatterternary"
           }
          ],
          "surface": [
           {
            "colorbar": {
             "outlinewidth": 0,
             "ticks": ""
            },
            "colorscale": [
             [
              0,
              "#0d0887"
             ],
             [
              0.1111111111111111,
              "#46039f"
             ],
             [
              0.2222222222222222,
              "#7201a8"
             ],
             [
              0.3333333333333333,
              "#9c179e"
             ],
             [
              0.4444444444444444,
              "#bd3786"
             ],
             [
              0.5555555555555556,
              "#d8576b"
             ],
             [
              0.6666666666666666,
              "#ed7953"
             ],
             [
              0.7777777777777778,
              "#fb9f3a"
             ],
             [
              0.8888888888888888,
              "#fdca26"
             ],
             [
              1,
              "#f0f921"
             ]
            ],
            "type": "surface"
           }
          ],
          "table": [
           {
            "cells": {
             "fill": {
              "color": "#EBF0F8"
             },
             "line": {
              "color": "white"
             }
            },
            "header": {
             "fill": {
              "color": "#C8D4E3"
             },
             "line": {
              "color": "white"
             }
            },
            "type": "table"
           }
          ]
         },
         "layout": {
          "annotationdefaults": {
           "arrowcolor": "#2a3f5f",
           "arrowhead": 0,
           "arrowwidth": 1
          },
          "autotypenumbers": "strict",
          "coloraxis": {
           "colorbar": {
            "outlinewidth": 0,
            "ticks": ""
           }
          },
          "colorscale": {
           "diverging": [
            [
             0,
             "#8e0152"
            ],
            [
             0.1,
             "#c51b7d"
            ],
            [
             0.2,
             "#de77ae"
            ],
            [
             0.3,
             "#f1b6da"
            ],
            [
             0.4,
             "#fde0ef"
            ],
            [
             0.5,
             "#f7f7f7"
            ],
            [
             0.6,
             "#e6f5d0"
            ],
            [
             0.7,
             "#b8e186"
            ],
            [
             0.8,
             "#7fbc41"
            ],
            [
             0.9,
             "#4d9221"
            ],
            [
             1,
             "#276419"
            ]
           ],
           "sequential": [
            [
             0,
             "#0d0887"
            ],
            [
             0.1111111111111111,
             "#46039f"
            ],
            [
             0.2222222222222222,
             "#7201a8"
            ],
            [
             0.3333333333333333,
             "#9c179e"
            ],
            [
             0.4444444444444444,
             "#bd3786"
            ],
            [
             0.5555555555555556,
             "#d8576b"
            ],
            [
             0.6666666666666666,
             "#ed7953"
            ],
            [
             0.7777777777777778,
             "#fb9f3a"
            ],
            [
             0.8888888888888888,
             "#fdca26"
            ],
            [
             1,
             "#f0f921"
            ]
           ],
           "sequentialminus": [
            [
             0,
             "#0d0887"
            ],
            [
             0.1111111111111111,
             "#46039f"
            ],
            [
             0.2222222222222222,
             "#7201a8"
            ],
            [
             0.3333333333333333,
             "#9c179e"
            ],
            [
             0.4444444444444444,
             "#bd3786"
            ],
            [
             0.5555555555555556,
             "#d8576b"
            ],
            [
             0.6666666666666666,
             "#ed7953"
            ],
            [
             0.7777777777777778,
             "#fb9f3a"
            ],
            [
             0.8888888888888888,
             "#fdca26"
            ],
            [
             1,
             "#f0f921"
            ]
           ]
          },
          "colorway": [
           "#636efa",
           "#EF553B",
           "#00cc96",
           "#ab63fa",
           "#FFA15A",
           "#19d3f3",
           "#FF6692",
           "#B6E880",
           "#FF97FF",
           "#FECB52"
          ],
          "font": {
           "color": "#2a3f5f"
          },
          "geo": {
           "bgcolor": "white",
           "lakecolor": "white",
           "landcolor": "#E5ECF6",
           "showlakes": true,
           "showland": true,
           "subunitcolor": "white"
          },
          "hoverlabel": {
           "align": "left"
          },
          "hovermode": "closest",
          "mapbox": {
           "style": "light"
          },
          "paper_bgcolor": "white",
          "plot_bgcolor": "#E5ECF6",
          "polar": {
           "angularaxis": {
            "gridcolor": "white",
            "linecolor": "white",
            "ticks": ""
           },
           "bgcolor": "#E5ECF6",
           "radialaxis": {
            "gridcolor": "white",
            "linecolor": "white",
            "ticks": ""
           }
          },
          "scene": {
           "xaxis": {
            "backgroundcolor": "#E5ECF6",
            "gridcolor": "white",
            "gridwidth": 2,
            "linecolor": "white",
            "showbackground": true,
            "ticks": "",
            "zerolinecolor": "white"
           },
           "yaxis": {
            "backgroundcolor": "#E5ECF6",
            "gridcolor": "white",
            "gridwidth": 2,
            "linecolor": "white",
            "showbackground": true,
            "ticks": "",
            "zerolinecolor": "white"
           },
           "zaxis": {
            "backgroundcolor": "#E5ECF6",
            "gridcolor": "white",
            "gridwidth": 2,
            "linecolor": "white",
            "showbackground": true,
            "ticks": "",
            "zerolinecolor": "white"
           }
          },
          "shapedefaults": {
           "line": {
            "color": "#2a3f5f"
           }
          },
          "ternary": {
           "aaxis": {
            "gridcolor": "white",
            "linecolor": "white",
            "ticks": ""
           },
           "baxis": {
            "gridcolor": "white",
            "linecolor": "white",
            "ticks": ""
           },
           "bgcolor": "#E5ECF6",
           "caxis": {
            "gridcolor": "white",
            "linecolor": "white",
            "ticks": ""
           }
          },
          "title": {
           "x": 0.05
          },
          "xaxis": {
           "automargin": true,
           "gridcolor": "white",
           "linecolor": "white",
           "ticks": "",
           "title": {
            "standoff": 15
           },
           "zerolinecolor": "white",
           "zerolinewidth": 2
          },
          "yaxis": {
           "automargin": true,
           "gridcolor": "white",
           "linecolor": "white",
           "ticks": "",
           "title": {
            "standoff": 15
           },
           "zerolinecolor": "white",
           "zerolinewidth": 2
          }
         }
        },
        "title": {
         "text": "Training and Validation Accuracy over Epochs"
        },
        "width": 900,
        "xaxis": {
         "title": {
          "text": "Epoch"
         }
        },
        "yaxis": {
         "title": {
          "text": "Loss"
         }
        }
       }
      }
     },
     "metadata": {},
     "output_type": "display_data"
    }
   ],
   "source": [
    "fig = graph.Figure()\n",
    "\n",
    "# the training loss \n",
    "fig.add_trace(graph.Scatter(y=train_acc, mode='lines', name='Training Accuracy'))\n",
    "# the validation loss \n",
    "fig.add_trace(graph.Scatter(y=val_acc, mode='lines', name='Validation Accuracy'))\n",
    "# Update the layout with titles and axis labels\n",
    "fig.update_layout(title='Training and Validation Accuracy over Epochs',\n",
    "                  xaxis_title='Epoch',\n",
    "                  yaxis_title='Loss',\n",
    "                  width=900,\n",
    "                  height=400)\n",
    "fig.show()"
   ]
  },
  {
   "cell_type": "markdown",
   "metadata": {},
   "source": [
    "### Print the total accuracy of the model on the training validation and test set:"
   ]
  },
  {
   "cell_type": "code",
   "execution_count": 29,
   "metadata": {},
   "outputs": [
    {
     "name": "stdout",
     "output_type": "stream",
     "text": [
      "Train Accuracy: 0.7973\n",
      "Validation Accuracy: 0.6519\n",
      "Test final perfomance Accuracy: 0.6391\n"
     ]
    }
   ],
   "source": [
    "train_accuracy, train_true_labels, train_pred_labels = calculate_accuracy(model, train_loader)\n",
    "val_accuracy, val_true_labels, val_pred_labels = calculate_accuracy(model, val_loader)\n",
    "test_accuracy, test_true_labels, test_pred_labels = calculate_accuracy(model, test_loader)\n",
    "\n",
    "print(f'Train Accuracy: {train_accuracy:.4f}')\n",
    "print(f'Validation Accuracy: {val_accuracy:.4f}')\n",
    "print(f'Test final perfomance Accuracy: {test_accuracy:.4f}')"
   ]
  },
  {
   "cell_type": "code",
   "execution_count": 29,
   "metadata": {},
   "outputs": [
    {
     "name": "stdout",
     "output_type": "stream",
     "text": [
      "TEST unseen Prediction:\n"
     ]
    },
    {
     "data": {
      "text/html": [
       "<div>\n",
       "<style scoped>\n",
       "    .dataframe tbody tr th:only-of-type {\n",
       "        vertical-align: middle;\n",
       "    }\n",
       "\n",
       "    .dataframe tbody tr th {\n",
       "        vertical-align: top;\n",
       "    }\n",
       "\n",
       "    .dataframe thead th {\n",
       "        text-align: right;\n",
       "    }\n",
       "</style>\n",
       "<table border=\"1\" class=\"dataframe\">\n",
       "  <thead>\n",
       "    <tr style=\"text-align: right;\">\n",
       "      <th></th>\n",
       "      <th>true_label</th>\n",
       "      <th>predicted_label</th>\n",
       "    </tr>\n",
       "  </thead>\n",
       "  <tbody>\n",
       "    <tr>\n",
       "      <th>0</th>\n",
       "      <td>disgust</td>\n",
       "      <td>disgust</td>\n",
       "    </tr>\n",
       "    <tr>\n",
       "      <th>1</th>\n",
       "      <td>happy</td>\n",
       "      <td>happy</td>\n",
       "    </tr>\n",
       "    <tr>\n",
       "      <th>3</th>\n",
       "      <td>neutral</td>\n",
       "      <td>neutral</td>\n",
       "    </tr>\n",
       "    <tr>\n",
       "      <th>5</th>\n",
       "      <td>sad</td>\n",
       "      <td>sad</td>\n",
       "    </tr>\n",
       "    <tr>\n",
       "      <th>6</th>\n",
       "      <td>happy</td>\n",
       "      <td>happy</td>\n",
       "    </tr>\n",
       "    <tr>\n",
       "      <th>...</th>\n",
       "      <td>...</td>\n",
       "      <td>...</td>\n",
       "    </tr>\n",
       "    <tr>\n",
       "      <th>3526</th>\n",
       "      <td>surprise</td>\n",
       "      <td>surprise</td>\n",
       "    </tr>\n",
       "    <tr>\n",
       "      <th>3527</th>\n",
       "      <td>surprise</td>\n",
       "      <td>surprise</td>\n",
       "    </tr>\n",
       "    <tr>\n",
       "      <th>3528</th>\n",
       "      <td>happy</td>\n",
       "      <td>happy</td>\n",
       "    </tr>\n",
       "    <tr>\n",
       "      <th>3530</th>\n",
       "      <td>surprise</td>\n",
       "      <td>surprise</td>\n",
       "    </tr>\n",
       "    <tr>\n",
       "      <th>3531</th>\n",
       "      <td>neutral</td>\n",
       "      <td>neutral</td>\n",
       "    </tr>\n",
       "  </tbody>\n",
       "</table>\n",
       "<p>2335 rows × 2 columns</p>\n",
       "</div>"
      ],
      "text/plain": [
       "     true_label predicted_label\n",
       "0       disgust         disgust\n",
       "1         happy           happy\n",
       "3       neutral         neutral\n",
       "5           sad             sad\n",
       "6         happy           happy\n",
       "...         ...             ...\n",
       "3526   surprise        surprise\n",
       "3527   surprise        surprise\n",
       "3528      happy           happy\n",
       "3530   surprise        surprise\n",
       "3531    neutral         neutral\n",
       "\n",
       "[2335 rows x 2 columns]"
      ]
     },
     "execution_count": 29,
     "metadata": {},
     "output_type": "execute_result"
    }
   ],
   "source": [
    "import numpy as np\n",
    "\n",
    "class_names = np.unique(train['label'])\n",
    "\n",
    "# Convert numeric labels to string using mapping\n",
    "true_labels = [class_names[label] for label in test_true_labels]\n",
    "pred_labels = [class_names[label] for label in test_pred_labels]\n",
    "\n",
    "print(f'TEST unseen Prediction:')\n",
    "# Create a DataFrame with both true and predicted labels\n",
    "pred_y = pd.DataFrame({'true_label': true_labels, 'predicted_label': pred_labels})\n",
    "# Filter the DataFrame to only include rows where true_label == predicted_label\n",
    "correct_predictions = pred_y[pred_y['true_label'] == pred_y['predicted_label']]\n",
    "correct_predictions"
   ]
  },
  {
   "cell_type": "markdown",
   "metadata": {},
   "source": [
    "### Confusion Matrix on Validation set"
   ]
  },
  {
   "cell_type": "code",
   "execution_count": 30,
   "metadata": {},
   "outputs": [
    {
     "data": {
      "image/png": "[encoded data removed]",
      "text/plain": [
       "<Figure size 1200x600 with 2 Axes>"
      ]
     },
     "metadata": {},
     "output_type": "display_data"
    }
   ],
   "source": [
    "from sklearn.metrics import confusion_matrix\n",
    "import seaborn as sns\n",
    "\n",
    "# class_names = np.unique(train['label'])\n",
    "\n",
    "# Generate confusion matrix\n",
    "conf_matrix = confusion_matrix(val_true_labels, val_pred_labels)\n",
    "conf_matrix_normalized = conf_matrix.astype('float') / conf_matrix.sum(axis=1)[:, np.newaxis]\n",
    "\n",
    "# Plot confusion matrix with class names\n",
    "plt.figure(figsize=(12, 6))\n",
    "sns.heatmap(conf_matrix_normalized, annot=True, cmap=\"Blues\", fmt=\".2f\", cbar=True, \n",
    "            xticklabels=class_names, yticklabels=class_names)\n",
    "\n",
    "plt.title(\"Normalized confusion matrix\")\n",
    "plt.xlabel(\"Predicted Label\")\n",
    "plt.ylabel(\"True Label\")\n",
    "plt.show()"
   ]
  },
  {
   "cell_type": "markdown",
   "metadata": {},
   "source": [
    "### Confusion Matrix on Test set"
   ]
  },
  {
   "cell_type": "code",
   "execution_count": 31,
   "metadata": {},
   "outputs": [
    {
     "data": {
      "image/png": "[encoded data removed]",
      "text/plain": [
       "<Figure size 1200x600 with 2 Axes>"
      ]
     },
     "metadata": {},
     "output_type": "display_data"
    }
   ],
   "source": [
    "from sklearn.metrics import confusion_matrix\n",
    "import seaborn as sns\n",
    "\n",
    "# class_names = np.unique(train['label'])\n",
    "\n",
    "# Generate confusion matrix\n",
    "conf_matrix = confusion_matrix(test_true_labels, test_pred_labels)\n",
    "conf_matrix_normalized = conf_matrix.astype('float') / conf_matrix.sum(axis=1)[:, np.newaxis]\n",
    "\n",
    "# Plot confusion matrix with class names\n",
    "plt.figure(figsize=(12, 6))\n",
    "sns.heatmap(conf_matrix_normalized, annot=True, cmap=\"Blues\", fmt=\".2f\", cbar=True, \n",
    "            xticklabels=class_names, yticklabels=class_names)\n",
    "\n",
    "plt.title(\"Normalized confusion matrix\")\n",
    "plt.xlabel(\"Predicted Label\")\n",
    "plt.ylabel(\"True Label\")\n",
    "plt.show()"
   ]
  },
  {
   "cell_type": "markdown",
   "metadata": {},
   "source": [
    "- techniques help to prevent overfitting:\n",
    "\n",
    "    - L2 weight regualation: 1e-7 (add penalty on magnitude to the loss function)\n",
    "    - Adjust the dropout rate\n",
    "    - Adding image augmentation to make train set more diverse\n",
    "    - shuffle train set\n",
    "    - Early stop to stop the training before it begin to overfit \n",
    "    - Apply batch normalization\n",
    "    - Checkpointing and fine-tuning based on the best-performing checkpoint at each epoch"
   ]
  }
 ],
 "metadata": {
  "kernelspec": {
   "display_name": "base",
   "language": "python",
   "name": "python3"
  },
  "language_info": {
   "codemirror_mode": {
    "name": "ipython",
    "version": 3
   },
   "file_extension": ".py",
   "mimetype": "text/x-python",
   "name": "python",
   "nbconvert_exporter": "python",
   "pygments_lexer": "ipython3",
   "version": "3.11.5"
  }
 },
 "nbformat": 4,
 "nbformat_minor": 2
}
